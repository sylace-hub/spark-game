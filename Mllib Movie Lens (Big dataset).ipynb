{
 "cells": [
  {
   "cell_type": "code",
   "execution_count": 1,
   "metadata": {
    "scrolled": true
   },
   "outputs": [
    {
     "name": "stdout",
     "output_type": "stream",
     "text": [
      "Starting Spark application\n"
     ]
    },
    {
     "data": {
      "text/html": [
       "<table>\n",
       "<tr><th>ID</th><th>YARN Application ID</th><th>Kind</th><th>State</th><th>Spark UI</th><th>Driver log</th><th>Current session?</th></tr><tr><td>2</td><td>application_1603981895563_0003</td><td>pyspark</td><td>idle</td><td><a target=\"_blank\" href=\"http://ip-172-31-31-175.eu-west-3.compute.internal:20888/proxy/application_1603981895563_0003/\">Link</a></td><td><a target=\"_blank\" href=\"http://ip-172-31-20-15.eu-west-3.compute.internal:8042/node/containerlogs/container_1603981895563_0003_01_000001/livy\">Link</a></td><td>✔</td></tr></table>"
      ],
      "text/plain": [
       "<IPython.core.display.HTML object>"
      ]
     },
     "metadata": {},
     "output_type": "display_data"
    },
    {
     "data": {
      "application/vnd.jupyter.widget-view+json": {
       "model_id": "",
       "version_major": 2,
       "version_minor": 0
      },
      "text/plain": [
       "FloatProgress(value=0.0, bar_style='info', description='Progress:', layout=Layout(height='25px', width='50%'),…"
      ]
     },
     "metadata": {},
     "output_type": "display_data"
    },
    {
     "name": "stdout",
     "output_type": "stream",
     "text": [
      "SparkSession available as 'spark'.\n"
     ]
    },
    {
     "data": {
      "application/vnd.jupyter.widget-view+json": {
       "model_id": "",
       "version_major": 2,
       "version_minor": 0
      },
      "text/plain": [
       "FloatProgress(value=0.0, bar_style='info', description='Progress:', layout=Layout(height='25px', width='50%'),…"
      ]
     },
     "metadata": {},
     "output_type": "display_data"
    },
    {
     "name": "stdout",
     "output_type": "stream",
     "text": [
      "<SparkContext master=yarn appName=livy-session-2>"
     ]
    }
   ],
   "source": [
    "sc"
   ]
  },
  {
   "cell_type": "code",
   "execution_count": 40,
   "metadata": {},
   "outputs": [
    {
     "data": {
      "application/vnd.jupyter.widget-view+json": {
       "model_id": "",
       "version_major": 2,
       "version_minor": 0
      },
      "text/plain": [
       "FloatProgress(value=0.0, bar_style='info', description='Progress:', layout=Layout(height='25px', width='50%'),…"
      ]
     },
     "metadata": {},
     "output_type": "display_data"
    }
   ],
   "source": [
    "from pyspark.sql.types import *\n",
    "\n",
    "# Define schema for movies dataset\n",
    "moviesStruct = [StructField(\"movieId\", IntegerType(), True),\n",
    "    StructField(\"title\", StringType(), True),\n",
    "    StructField(\"genres\", StringType(), True)]\n",
    "\n",
    "moviesSchema = StructType(moviesStruct)"
   ]
  },
  {
   "cell_type": "code",
   "execution_count": 41,
   "metadata": {},
   "outputs": [
    {
     "data": {
      "application/vnd.jupyter.widget-view+json": {
       "model_id": "",
       "version_major": 2,
       "version_minor": 0
      },
      "text/plain": [
       "FloatProgress(value=0.0, bar_style='info', description='Progress:', layout=Layout(height='25px', width='50%'),…"
      ]
     },
     "metadata": {},
     "output_type": "display_data"
    },
    {
     "name": "stdout",
     "output_type": "stream",
     "text": [
      "+-------+--------------------+--------------------+\n",
      "|movieId|               title|              genres|\n",
      "+-------+--------------------+--------------------+\n",
      "|      1|    Toy Story (1995)|Adventure|Animati...|\n",
      "|      2|      Jumanji (1995)|Adventure|Childre...|\n",
      "|      3|Grumpier Old Men ...|      Comedy|Romance|\n",
      "|      4|Waiting to Exhale...|Comedy|Drama|Romance|\n",
      "|      5|Father of the Bri...|              Comedy|\n",
      "|      6|         Heat (1995)|Action|Crime|Thri...|\n",
      "|      7|      Sabrina (1995)|      Comedy|Romance|\n",
      "|      8| Tom and Huck (1995)|  Adventure|Children|\n",
      "|      9| Sudden Death (1995)|              Action|\n",
      "|     10|    GoldenEye (1995)|Action|Adventure|...|\n",
      "+-------+--------------------+--------------------+\n",
      "only showing top 10 rows"
     ]
    }
   ],
   "source": [
    "# Read movies from HDFS\n",
    "moviesDf = spark.read.format(\"csv\") \\\n",
    "    .option(\"header\", \"true\") \\\n",
    "    .option(\"delimiter\", \",\") \\\n",
    "    .schema(moviesSchema) \\\n",
    "    .load(\"hdfs:///user/hadoop/movielens/movies.csv\")\n",
    "\n",
    "moviesDf.show(10)"
   ]
  },
  {
   "cell_type": "code",
   "execution_count": 5,
   "metadata": {},
   "outputs": [
    {
     "data": {
      "application/vnd.jupyter.widget-view+json": {
       "model_id": "",
       "version_major": 2,
       "version_minor": 0
      },
      "text/plain": [
       "FloatProgress(value=0.0, bar_style='info', description='Progress:', layout=Layout(height='25px', width='50%'),…"
      ]
     },
     "metadata": {},
     "output_type": "display_data"
    }
   ],
   "source": [
    "# Define schema for ratings dataset\n",
    "ratingsStruct = [StructField(\"userId\", IntegerType(), True),\n",
    "    StructField(\"movieId\", IntegerType(), True),\n",
    "    StructField(\"rating\", DoubleType(), True),\n",
    "    StructField(\"timestamp\", IntegerType(), True)]\n",
    "\n",
    "ratingsSchema = StructType(ratingsStruct)"
   ]
  },
  {
   "cell_type": "code",
   "execution_count": 7,
   "metadata": {},
   "outputs": [
    {
     "data": {
      "application/vnd.jupyter.widget-view+json": {
       "model_id": "",
       "version_major": 2,
       "version_minor": 0
      },
      "text/plain": [
       "FloatProgress(value=0.0, bar_style='info', description='Progress:', layout=Layout(height='25px', width='50%'),…"
      ]
     },
     "metadata": {},
     "output_type": "display_data"
    },
    {
     "name": "stdout",
     "output_type": "stream",
     "text": [
      "27753444"
     ]
    }
   ],
   "source": [
    "# Read ratings from HDFS\n",
    "ratingsDf = spark.read.format(\"csv\") \\\n",
    "    .option(\"header\", \"true\") \\\n",
    "    .option(\"delimiter\", \",\") \\\n",
    "    .schema(ratingsSchema) \\\n",
    "    .load(\"hdfs:///user/hadoop/movielens/ratings.csv\")\n",
    "\n",
    "ratingsDf.show(10)"
   ]
  },
  {
   "cell_type": "code",
   "execution_count": 52,
   "metadata": {},
   "outputs": [
    {
     "data": {
      "application/vnd.jupyter.widget-view+json": {
       "model_id": "",
       "version_major": 2,
       "version_minor": 0
      },
      "text/plain": [
       "FloatProgress(value=0.0, bar_style='info', description='Progress:', layout=Layout(height='25px', width='50%'),…"
      ]
     },
     "metadata": {},
     "output_type": "display_data"
    },
    {
     "name": "stderr",
     "output_type": "stream",
     "text": [
      "An error was encountered:\n",
      "EOF when reading a line\n",
      "Traceback (most recent call last):\n",
      "EOFError: EOF when reading a line\n",
      "\n"
     ]
    }
   ],
   "source": [
    "sampleDf = moviesDf.sample(fraction=0.001)\n",
    "\n",
    "# sampleDf.show(100, True)\n",
    "for row in sampleDf.rdd.collect():\n",
    "    print(\"Please rate the following movie (1-5 (best), or 0 if not seen):\\n\" + row.title + \":\")\n",
    "    rate = input()"
   ]
  },
  {
   "cell_type": "code",
   "execution_count": 42,
   "metadata": {},
   "outputs": [
    {
     "data": {
      "application/vnd.jupyter.widget-view+json": {
       "model_id": "",
       "version_major": 2,
       "version_minor": 0
      },
      "text/plain": [
       "FloatProgress(value=0.0, bar_style='info', description='Progress:', layout=Layout(height='25px', width='50%'),…"
      ]
     },
     "metadata": {},
     "output_type": "display_data"
    },
    {
     "name": "stderr",
     "output_type": "stream",
     "text": [
      "An error was encountered:\n",
      "name 'ratingsDf' is not defined\n",
      "Traceback (most recent call last):\n",
      "NameError: name 'ratingsDf' is not defined\n",
      "\n"
     ]
    }
   ],
   "source": [
    "joinDf = moviesDf.join(ratingsDf, \"movieId\")\n",
    "joinDf.show(10, False)"
   ]
  },
  {
   "cell_type": "code",
   "execution_count": 9,
   "metadata": {},
   "outputs": [
    {
     "data": {
      "application/vnd.jupyter.widget-view+json": {
       "model_id": "",
       "version_major": 2,
       "version_minor": 0
      },
      "text/plain": [
       "FloatProgress(value=0.0, bar_style='info', description='Progress:', layout=Layout(height='25px', width='50%'),…"
      ]
     },
     "metadata": {},
     "output_type": "display_data"
    },
    {
     "name": "stdout",
     "output_type": "stream",
     "text": [
      "Got 27753444 ratings from 283228 users on 58098 movies."
     ]
    }
   ],
   "source": [
    "# To summarize :\n",
    "usersDf = ratingsDf.select(\"userId\").distinct()\n",
    "\n",
    "# Got 1000209 ratings from 6040 users on 3883 movies.\n",
    "print(\"Got {} ratings from {} users on {} movies.\".format(ratingsDf.count(), usersDf.count(), moviesDf.count()))"
   ]
  },
  {
   "cell_type": "code",
   "execution_count": 10,
   "metadata": {},
   "outputs": [
    {
     "data": {
      "application/vnd.jupyter.widget-view+json": {
       "model_id": "",
       "version_major": 2,
       "version_minor": 0
      },
      "text/plain": [
       "FloatProgress(value=0.0, bar_style='info', description='Progress:', layout=Layout(height='25px', width='50%'),…"
      ]
     },
     "metadata": {},
     "output_type": "display_data"
    },
    {
     "name": "stdout",
     "output_type": "stream",
     "text": [
      "Training 22202834, test 5550610."
     ]
    }
   ],
   "source": [
    "# Splitting training data\n",
    "training,test = ratingsDf.randomSplit([0.8, 0.2], seed=12345)\n",
    "\n",
    "# Got 1000209 ratings from 6040 users on 3883 movies.\n",
    "print(\"Training {}, test {}.\".format(training.count(), test.count()))"
   ]
  },
  {
   "cell_type": "code",
   "execution_count": 11,
   "metadata": {},
   "outputs": [
    {
     "data": {
      "application/vnd.jupyter.widget-view+json": {
       "model_id": "",
       "version_major": 2,
       "version_minor": 0
      },
      "text/plain": [
       "FloatProgress(value=0.0, bar_style='info', description='Progress:', layout=Layout(height='25px', width='50%'),…"
      ]
     },
     "metadata": {},
     "output_type": "display_data"
    }
   ],
   "source": [
    "# Training the data\n",
    "from pyspark.ml.recommendation import ALS\n",
    "\n",
    "\"\"\"\n",
    "As the Netflix Prize competition has demonstrated, matrix factorization models are superior \n",
    "to classic nearest-neighbor techniques for producing product recommendations, \n",
    "allowing the incorporation of additional information such as implicit feedback, temporal effects, and confidence levels.\n",
    "\"\"\"\n",
    "als = ALS(maxIter=5,\n",
    "          regParam=0.01, \n",
    "          implicitPrefs=False, \n",
    "          userCol=\"userId\", \n",
    "          itemCol=\"movieId\", \n",
    "          ratingCol=\"rating\", \n",
    "          coldStartStrategy=\"drop\")\n",
    "\n",
    "model = als.fit(training)"
   ]
  },
  {
   "cell_type": "code",
   "execution_count": 12,
   "metadata": {},
   "outputs": [
    {
     "data": {
      "application/vnd.jupyter.widget-view+json": {
       "model_id": "",
       "version_major": 2,
       "version_minor": 0
      },
      "text/plain": [
       "FloatProgress(value=0.0, bar_style='info', description='Progress:', layout=Layout(height='25px', width='50%'),…"
      ]
     },
     "metadata": {},
     "output_type": "display_data"
    },
    {
     "name": "stdout",
     "output_type": "stream",
     "text": [
      "Root-mean-square error = 0.8430091116019851"
     ]
    }
   ],
   "source": [
    "# Evaluate the model by computing the RMSE on the test data\n",
    "from pyspark.ml.evaluation import RegressionEvaluator\n",
    "\n",
    "predictions = model.transform(test)\n",
    "evaluator = RegressionEvaluator(metricName=\"rmse\", labelCol=\"rating\",\n",
    "                                predictionCol=\"prediction\")\n",
    "\n",
    "rmse = evaluator.evaluate(predictions)\n",
    "print(\"Root-mean-square error = \" + str(rmse))"
   ]
  },
  {
   "cell_type": "code",
   "execution_count": 13,
   "metadata": {},
   "outputs": [
    {
     "data": {
      "application/vnd.jupyter.widget-view+json": {
       "model_id": "",
       "version_major": 2,
       "version_minor": 0
      },
      "text/plain": [
       "FloatProgress(value=0.0, bar_style='info', description='Progress:', layout=Layout(height='25px', width='50%'),…"
      ]
     },
     "metadata": {},
     "output_type": "display_data"
    }
   ],
   "source": [
    "# Generate top 10 movie recommendations for each user\n",
    "userRecs = model.recommendForAllUsers(10)\n",
    "\n",
    "# Generate top 10 user recommendations for each movie\n",
    "movieRecs = model.recommendForAllItems(10)"
   ]
  },
  {
   "cell_type": "code",
   "execution_count": 14,
   "metadata": {},
   "outputs": [
    {
     "data": {
      "application/vnd.jupyter.widget-view+json": {
       "model_id": "",
       "version_major": 2,
       "version_minor": 0
      },
      "text/plain": [
       "FloatProgress(value=0.0, bar_style='info', description='Progress:', layout=Layout(height='25px', width='50%'),…"
      ]
     },
     "metadata": {},
     "output_type": "display_data"
    }
   ],
   "source": [
    "# Generate top 10 movie recommendations for a specified set of users\n",
    "users = ratingsDf.select(als.getUserCol()).distinct().limit(3)\n",
    "userSubsetRecs = model.recommendForUserSubset(users, 10)\n",
    "\n",
    "# Generate top 10 user recommendations for a specified set of movies\n",
    "movies = ratingsDf.select(als.getItemCol()).distinct().limit(3)\n",
    "movieSubSetRecs = model.recommendForItemSubset(movies, 10)"
   ]
  },
  {
   "cell_type": "code",
   "execution_count": 15,
   "metadata": {},
   "outputs": [
    {
     "data": {
      "application/vnd.jupyter.widget-view+json": {
       "model_id": "",
       "version_major": 2,
       "version_minor": 0
      },
      "text/plain": [
       "FloatProgress(value=0.0, bar_style='info', description='Progress:', layout=Layout(height='25px', width='50%'),…"
      ]
     },
     "metadata": {},
     "output_type": "display_data"
    },
    {
     "name": "stdout",
     "output_type": "stream",
     "text": [
      "+------+------------------------------------------------------------------------------------------------------------------------------------------------------------------------------------------------------------+\n",
      "|userId|recommendations                                                                                                                                                                                             |\n",
      "+------+------------------------------------------------------------------------------------------------------------------------------------------------------------------------------------------------------------+\n",
      "|12    |[[188925, 18.428097], [188923, 16.585285], [182521, 11.055481], [160824, 10.536652], [188935, 9.214048], [141532, 9.110452], [163713, 8.989071], [178027, 8.866638], [121650, 8.762271], [153184, 8.459264]]|\n",
      "+------+------------------------------------------------------------------------------------------------------------------------------------------------------------------------------------------------------------+"
     ]
    }
   ],
   "source": [
    "from pyspark.sql.functions import col\n",
    "\n",
    "# Recommendations for a specific user\n",
    "aUserId = 12\n",
    "recommandations = userRecs.filter(col(\"userId\") == aUserId)\n",
    "recommandations.show(1, False)"
   ]
  },
  {
   "cell_type": "code",
   "execution_count": 16,
   "metadata": {},
   "outputs": [
    {
     "data": {
      "application/vnd.jupyter.widget-view+json": {
       "model_id": "",
       "version_major": 2,
       "version_minor": 0
      },
      "text/plain": [
       "FloatProgress(value=0.0, bar_style='info', description='Progress:', layout=Layout(height='25px', width='50%'),…"
      ]
     },
     "metadata": {},
     "output_type": "display_data"
    },
    {
     "name": "stdout",
     "output_type": "stream",
     "text": [
      "Recommandations for user 12 :\n",
      "+-------+----------------------------------+---------------------+\n",
      "|movieId|title                             |genres               |\n",
      "+-------+----------------------------------+---------------------+\n",
      "|188925 |8 Murders a Day (2011)            |(no genres listed)   |\n",
      "|188923 |49 Pulses (2017)                  |(no genres listed)   |\n",
      "|182521 |Thakara (1979)                    |(no genres listed)   |\n",
      "|160824 |W.A.R.: Women Against Rape (1987) |Drama|Thriller       |\n",
      "|188935 |Earth's Natural Wonders (2016)    |Documentary          |\n",
      "|141532 |Retrieval (2006)                  |(no genres listed)   |\n",
      "|163713 |Rampage: Capital Punishment (2014)|Action|Crime|Thriller|\n",
      "|178027 |People That Are Not Me (2016)     |Drama|Romance        |\n",
      "|121650 |The Loyal 47 Ronin (1958)         |Drama                |\n",
      "|153184 |Vergeef me                        |(no genres listed)   |\n",
      "+-------+----------------------------------+---------------------+"
     ]
    }
   ],
   "source": [
    "from pyspark.sql.functions import explode\n",
    "\n",
    "# Let's flatten the movie recommandations and look in detail\n",
    "userRecommandations = recommandations.select(\n",
    "  explode(col(\"recommendations\").movieId).alias(\"movieId\")\n",
    ")\n",
    "\n",
    "print(\"Recommandations for user {} :\".format(aUserId))\n",
    "\n",
    "moviesDf.join(userRecommandations, \"movieId\").show(10, False)"
   ]
  },
  {
   "cell_type": "code",
   "execution_count": 18,
   "metadata": {},
   "outputs": [
    {
     "data": {
      "application/vnd.jupyter.widget-view+json": {
       "model_id": "",
       "version_major": 2,
       "version_minor": 0
      },
      "text/plain": [
       "FloatProgress(value=0.0, bar_style='info', description='Progress:', layout=Layout(height='25px', width='50%'),…"
      ]
     },
     "metadata": {},
     "output_type": "display_data"
    },
    {
     "name": "stdout",
     "output_type": "stream",
     "text": [
      "+-------+------+------+----------+-------------------------------------+----------------------------------------+\n",
      "|movieId|userId|rating|timestamp |title                                |genres                                  |\n",
      "+-------+------+------+----------+-------------------------------------+----------------------------------------+\n",
      "|1090   |12    |3.5   |1108087090|Platoon (1986)                       |Drama|War                               |\n",
      "|2502   |12    |3.5   |1108087157|Office Space (1999)                  |Comedy|Crime                            |\n",
      "|1380   |12    |3.0   |1108087105|Grease (1978)                        |Comedy|Musical|Romance                  |\n",
      "|45     |12    |3.0   |1108087163|To Die For (1995)                    |Comedy|Drama|Thriller                   |\n",
      "|2001   |12    |3.0   |1108087154|Lethal Weapon 2 (1989)               |Action|Comedy|Crime|Drama               |\n",
      "|2406   |12    |3.0   |1108087093|Romancing the Stone (1984)           |Action|Adventure|Comedy|Romance         |\n",
      "|105    |12    |3.0   |1108087146|Bridges of Madison County, The (1995)|Drama|Romance                           |\n",
      "|3897   |12    |3.0   |1108087074|Almost Famous (2000)                 |Drama                                   |\n",
      "|48     |12    |2.5   |1108087112|Pocahontas (1995)                    |Animation|Children|Drama|Musical|Romance|\n",
      "|1639   |12    |2.5   |1108087102|Chasing Amy (1997)                   |Comedy|Drama|Romance                    |\n",
      "|2302   |12    |2.5   |1108087108|My Cousin Vinny (1992)               |Comedy                                  |\n",
      "|2100   |12    |2.5   |1108087140|Splash (1984)                        |Comedy|Fantasy|Romance                  |\n",
      "|186    |12    |2.5   |1108087086|Nine Months (1995)                   |Comedy|Romance                          |\n",
      "|2353   |12    |2.5   |1108087149|Enemy of the State (1998)            |Action|Thriller                         |\n",
      "|596    |12    |2.0   |1108087132|Pinocchio (1940)                     |Animation|Children|Fantasy|Musical      |\n",
      "|1094   |12    |2.0   |1108087077|Crying Game, The (1992)              |Drama|Romance|Thriller                  |\n",
      "|2657   |12    |2.0   |1108087135|Rocky Horror Picture Show, The (1975)|Comedy|Horror|Musical|Sci-Fi            |\n",
      "|2012   |12    |1.5   |1108087049|Back to the Future Part III (1990)   |Adventure|Comedy|Sci-Fi|Western         |\n",
      "+-------+------+------+----------+-------------------------------------+----------------------------------------+"
     ]
    }
   ],
   "source": [
    "# Ratings from the user\n",
    "ratingsDf.filter(col(\"userId\") == aUserId) \\\n",
    "    .join(moviesDf, \"movieId\") \\\n",
    "    .sort(col(\"rating\").desc()) \\\n",
    "    .show(100, truncate=False)"
   ]
  }
 ],
 "metadata": {
  "kernelspec": {
   "display_name": "PySpark",
   "language": "",
   "name": "pysparkkernel"
  },
  "language_info": {
   "codemirror_mode": {
    "name": "python",
    "version": 3
   },
   "mimetype": "text/x-python",
   "name": "pyspark",
   "pygments_lexer": "python3"
  }
 },
 "nbformat": 4,
 "nbformat_minor": 4
}
