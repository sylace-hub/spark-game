{
 "cells": [
  {
   "cell_type": "code",
   "execution_count": 1,
   "metadata": {
    "scrolled": true
   },
   "outputs": [],
   "source": [
    "# SVM classifier with an Radial basis function kernel\n",
    "from sklearn.svm import SVC\n",
    "from sklearn.model_selection import train_test_split\n",
    "from sklearn.datasets import load_breast_cancer\n",
    "\n",
    "cancer = load_breast_cancer()\n",
    "X_train, X_test, y_train, y_test = train_test_split(cancer.data, cancer.target, random_state=0)"
   ]
  },
  {
   "cell_type": "code",
   "execution_count": 5,
   "metadata": {
    "scrolled": false
   },
   "outputs": [
    {
     "name": "stdout",
     "output_type": "stream",
     "text": [
      "The accuracy on the training subset: 0.995\n",
      "The accuracy on the test subset: 0.979\n"
     ]
    }
   ],
   "source": [
    "# SVM classifier with an Radial basis function kernel\n",
    "from sklearn.svm import SVC\n",
    "from sklearn.model_selection import train_test_split\n",
    "from sklearn.datasets import load_breast_cancer\n",
    "\n",
    "cancer = load_breast_cancer()\n",
    "X_train, X_test, y_train, y_test = train_test_split(cancer.data, cancer.target, random_state=0)\n",
    "\n",
    "# The minimum value of each feature\n",
    "min_train = X_train.min(axis=0)\n",
    "\n",
    "# The range of each feature by substracting the minimum from the maximum.\n",
    "range_train = X_train.max(axis=0) - min_train\n",
    "\n",
    "# Substract the minimum for each feature and divide by the range to bring data between 0 & 1\n",
    "X_train_scaled = (X_train - min_train) / range_train\n",
    "X_test_scaled = (X_test - min_train) / range_train\n",
    "\n",
    "svm = SVC(C=50)\n",
    "svm.fit(X_train_scaled, y_train)\n",
    "\n",
    "print('The accuracy on the training subset: {:.3f}'.format(svm.score(X_train_scaled, y_train)))\n",
    "print('The accuracy on the test subset: {:.3f}'.format(svm.score(X_test_scaled, y_test)))\n",
    "\n"
   ]
  },
  {
   "cell_type": "markdown",
   "metadata": {},
   "source": [
    "### <center> Uncertainty Estimation </center>\n",
    "\n",
    "We know that our classifier is able to predict that a spacific tumor as benign or malignant but we want to know how certain the classifier is with making that choice.<br>\n",
    "We want to make an estimation of its uncertainty.<br>\n",
    "Most classifiers inside scikit-learn can do this using two methods :\n",
    "* Decision function.\n",
    "* Predicting Probabilities."
   ]
  },
  {
   "cell_type": "markdown",
   "metadata": {},
   "source": [
    "**Decision function :** Given a point finds the distance to the separating plan.\n",
    "<br>\n",
    "Look only the 20 first samples.<br>\n",
    "These represent the walues for how strongly SVM believes a certain point is one class or the other. Positive values are associated with one class while negatives are associated with the other class.\n"
   ]
  },
  {
   "cell_type": "code",
   "execution_count": 9,
   "metadata": {},
   "outputs": [
    {
     "name": "stdout",
     "output_type": "stream",
     "text": [
      "The decision function is:\n",
      "\n",
      "[-3.80566784  0.90857477  2.74638735  1.58183853  1.93151405  3.36683719\n",
      "  4.2198839   2.50708394  2.12907524  3.76941411  0.11263957  1.54449847\n",
      "  3.60775422  0.46292768  0.0769851  -2.43330679  2.09127626 -4.04283667\n",
      " -3.86705139 -4.07489494]\n"
     ]
    }
   ],
   "source": [
    "print('The decision function is:\\n\\n{}'.format(svm.decision_function(X_test_scaled)[:20]))"
   ]
  },
  {
   "cell_type": "code",
   "execution_count": 10,
   "metadata": {},
   "outputs": [
    {
     "name": "stdout",
     "output_type": "stream",
     "text": [
      "Thresholded decision function:\n",
      "\n",
      "[False  True  True  True  True  True  True  True  True  True  True  True\n",
      "  True  True  True False  True False False False]\n"
     ]
    }
   ],
   "source": [
    "# Check if it belongs to the benign class.\n",
    "print('Thresholded decision function:\\n\\n{}'.format(svm.decision_function(X_test_scaled)[:20]>0))"
   ]
  },
  {
   "cell_type": "code",
   "execution_count": 11,
   "metadata": {
    "scrolled": true
   },
   "outputs": [
    {
     "data": {
      "text/plain": [
       "array([0, 1])"
      ]
     },
     "execution_count": 11,
     "metadata": {},
     "output_type": "execute_result"
    }
   ],
   "source": [
    "# 0 is benign and 1 is malignant\n",
    "svm.classes_"
   ]
  },
  {
   "cell_type": "markdown",
   "metadata": {},
   "source": [
    "**Predicting Probabilities :** It outputs the probability of an instance (a tumor sample in our case) of being in each of the classes.<br>\n",
    "So how likely it is for a tumor sample to be malignant then how likely it is fot it to be benign."
   ]
  },
  {
   "cell_type": "code",
   "execution_count": 14,
   "metadata": {
    "scrolled": true
   },
   "outputs": [
    {
     "name": "stdout",
     "output_type": "stream",
     "text": [
      "Predicted probabilities for the samples (malignant and benign):\n",
      "\n",
      "[[9.97907120e-01 2.09287976e-03]\n",
      " [1.39824912e-01 8.60175088e-01]\n",
      " [7.18519827e-03 9.92814802e-01]\n",
      " [4.93975097e-02 9.50602490e-01]\n",
      " [2.79549967e-02 9.72045003e-01]\n",
      " [2.52401169e-03 9.97475988e-01]\n",
      " [1.06848801e-06 9.99998932e-01]\n",
      " [1.07371541e-02 9.89262846e-01]\n",
      " [2.01695902e-02 9.79830410e-01]\n",
      " [4.91799838e-06 9.99995082e-01]\n",
      " [3.83655058e-01 6.16344942e-01]\n",
      " [5.24492893e-02 9.47550711e-01]\n",
      " [8.50730313e-06 9.99991493e-01]\n",
      " [2.57149594e-01 7.42850406e-01]\n",
      " [3.98696349e-01 6.01303651e-01]\n",
      " [9.78654460e-01 2.13455397e-02]\n",
      " [2.14737527e-02 9.78526247e-01]\n",
      " [9.98599480e-01 1.40052037e-03]\n",
      " [9.98113779e-01 1.88622135e-03]\n",
      " [9.98673498e-01 1.32650224e-03]]\n"
     ]
    }
   ],
   "source": [
    "# Set probability parameter to True.\n",
    "svm = SVC(C=50, probability=True)\n",
    "svm.fit(X_train_scaled, y_train)\n",
    "\n",
    "print('Predicted probabilities for the samples (malignant and benign):\\n\\n{}'\\\n",
    "      .format(svm.predict_proba(X_test_scaled[:20])))"
   ]
  },
  {
   "cell_type": "code",
   "execution_count": 15,
   "metadata": {
    "scrolled": true
   },
   "outputs": [
    {
     "data": {
      "text/plain": [
       "array([0, 1, 1, 1, 1, 1, 1, 1, 1, 1, 1, 1, 1, 1, 1, 0, 1, 0, 0, 0, 0, 0,\n",
       "       1, 1, 0, 1, 1, 0, 1, 0, 1, 0, 1, 0, 1, 0, 1, 0, 1, 0, 0, 1, 0, 1,\n",
       "       1, 0, 1, 1, 1, 0, 0, 0, 0, 1, 1, 1, 1, 1, 1, 0, 0, 0, 1, 1, 0, 1,\n",
       "       0, 0, 0, 1, 0, 0, 1, 0, 0, 1, 1, 1, 1, 1, 0, 0, 0, 1, 0, 1, 1, 1,\n",
       "       0, 0, 1, 0, 1, 0, 1, 1, 0, 1, 1, 1, 1, 1, 1, 1, 0, 1, 0, 1, 1, 0,\n",
       "       1, 0, 0, 0, 1, 1, 1, 1, 1, 1, 1, 1, 0, 1, 0, 1, 1, 1, 1, 1, 0, 1,\n",
       "       1, 1, 1, 1, 1, 0, 0, 1, 1, 1, 0])"
      ]
     },
     "execution_count": 15,
     "metadata": {},
     "output_type": "execute_result"
    }
   ],
   "source": [
    "# Preict classes for samples\n",
    "svm.predict(X_test_scaled)"
   ]
  },
  {
   "cell_type": "markdown",
   "metadata": {},
   "source": [
    "### <center> Uncertainty Estimation in MultiClass Datasets </center>\n",
    "What to do if we have more than two classes ?<br>\n",
    "Let's have a look on the iris dataset which is preloaded and pre-processed in scikit-learn. It this dataset flowers are divided into three categories : Setosa, Versicolour, and Virginica."
   ]
  },
  {
   "cell_type": "code",
   "execution_count": 23,
   "metadata": {
    "scrolled": true
   },
   "outputs": [
    {
     "data": {
      "text/plain": [
       "array(['setosa', 'versicolor', 'virginica'], dtype='<U10')"
      ]
     },
     "execution_count": 23,
     "metadata": {},
     "output_type": "execute_result"
    }
   ],
   "source": [
    "from sklearn.datasets import load_iris\n",
    "from sklearn.model_selection import train_test_split\n",
    "from sklearn.ensemble import GradientBoostingClassifier\n",
    "\n",
    "iris = load_iris()\n",
    "iris.target_names"
   ]
  },
  {
   "cell_type": "code",
   "execution_count": 24,
   "metadata": {},
   "outputs": [
    {
     "data": {
      "text/plain": [
       "GradientBoostingClassifier(learning_rate=0.01, random_state=0)"
      ]
     },
     "execution_count": 24,
     "metadata": {},
     "output_type": "execute_result"
    }
   ],
   "source": [
    "X_train, X_test, y_train, y_test = train_test_split(iris.data, iris.target, random_state=42)\n",
    "gbrt = GradientBoostingClassifier(learning_rate=0.01, random_state=0)\n",
    "\n",
    "gbrt.fit(X_train, y_train)"
   ]
  },
  {
   "cell_type": "code",
   "execution_count": 18,
   "metadata": {
    "scrolled": true
   },
   "outputs": [
    {
     "name": "stdout",
     "output_type": "stream",
     "text": [
      "The decision function for the 3-class iris dataset:\n",
      "\n",
      "[[-1.995715    0.04758267 -1.92720695]\n",
      " [ 0.06146394 -1.90755736 -1.92793758]\n",
      " [-1.99058203 -1.87637861  0.09686725]\n",
      " [-1.995715    0.04758267 -1.92720695]\n",
      " [-1.99730159 -0.13469108 -1.20341483]\n",
      " [ 0.06146394 -1.90755736 -1.92793758]\n",
      " [-1.995715    0.04758267 -1.92720695]\n",
      " [-1.99677434 -1.87637861  0.09686725]\n",
      " [-1.995715    0.04758267 -1.92720695]\n",
      " [-1.995715    0.04758267 -1.92720695]]\n"
     ]
    }
   ],
   "source": [
    "print('The decision function for the 3-class iris dataset:\\n\\n{}'\\\n",
    "      .format(gbrt.decision_function(X_test[:10])))"
   ]
  },
  {
   "cell_type": "code",
   "execution_count": 25,
   "metadata": {},
   "outputs": [
    {
     "name": "stdout",
     "output_type": "stream",
     "text": [
      "Predicted probabilities for the samples in the iris dataset:\n",
      "\n",
      "[[0.10217718 0.78840034 0.10942248]\n",
      " [0.78347147 0.10936745 0.10716108]\n",
      " [0.09818072 0.11005864 0.79176065]\n",
      " [0.10217718 0.78840034 0.10942248]\n",
      " [0.10360005 0.66723901 0.22916094]\n",
      " [0.78347147 0.10936745 0.10716108]\n",
      " [0.10217718 0.78840034 0.10942248]\n",
      " [0.09763381 0.11012538 0.79224081]\n",
      " [0.10217718 0.78840034 0.10942248]\n",
      " [0.10217718 0.78840034 0.10942248]]\n"
     ]
    }
   ],
   "source": [
    "print('Predicted probabilities for the samples in the iris dataset:\\n\\n{}' \\\n",
    "      .format(gbrt.predict_proba(X_test[:10])))"
   ]
  }
 ],
 "metadata": {
  "kernelspec": {
   "display_name": "Python 3",
   "language": "python",
   "name": "python3"
  },
  "language_info": {
   "codemirror_mode": {
    "name": "ipython",
    "version": 3
   },
   "file_extension": ".py",
   "mimetype": "text/x-python",
   "name": "python",
   "nbconvert_exporter": "python",
   "pygments_lexer": "ipython3",
   "version": "3.6.8"
  }
 },
 "nbformat": 4,
 "nbformat_minor": 4
}
