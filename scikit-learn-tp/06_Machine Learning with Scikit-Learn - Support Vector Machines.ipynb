{
 "cells": [
  {
   "cell_type": "markdown",
   "metadata": {},
   "source": [
    "## <center> Support Vector Machines (SVMs) in scikit-learn </center>\n",
    "\n",
    "- They can be used for both classification and regression (SVCs, SVRs). In our case we'll use SVC to classify tumors into malignant or benign.\n",
    "- The can work both on linear and non-linear data.\n",
    "<br/>\n",
    "<br/>\n",
    "In logistic regression the purpose was to find the best separating line or what we like to call decision boundary for the classes. We did that by measuring the distance to all points.\n",
    "What SVM does differently is to look for the largest margin between points on the sides of the decisional lines and these are support vectors.\n",
    "The classification in this case may be more accurate because we add another layer of complexity to the model for decision making."
   ]
  },
  {
   "cell_type": "markdown",
   "metadata": {},
   "source": [
    "![](ml-sklearn/SVM.png)\n",
    "\n",
    "D1 and D2 could be possible decision boundaries for the two classes, but D2 is the optimal choice since it maximizes the distance between these class points.\n",
    "The idea is that the decision line has to stay as far as possible from the closest training instances."
   ]
  },
  {
   "cell_type": "markdown",
   "metadata": {},
   "source": [
    "**The kernel trick :**<br/>\n",
    "We've seen that we quite easily deal with linear problems using SVMs. But how to deal with non-linear data (data that is not separable by a line) ?"
   ]
  },
  {
   "cell_type": "markdown",
   "metadata": {},
   "source": [
    "![](ml-sklearn/SVM2.png)\n",
    "Here we have just one feature x1 and the data is not linearly separable. If we add another feature x2 which x1² then the data becomes linearly separable.<br/>\n",
    "So in this case we've just used something called polynomial features to make the data separable by a line. We can use this on very low complexity data for small datasets.<br/>\n",
    "But when the data becomes more complex and higher dimensional we can use the kernel trick. So with the kernel trick is like adding multiple polynomial features. It allows you to apply some sort of transformation to the data to change the original input space to a higher dimensional space in which it is goiing to be possible to find a linear separation for the data then to take to the original space where it becomes non-linear but visible."
   ]
  },
  {
   "cell_type": "markdown",
   "metadata": {},
   "source": [
    "![](ml-sklearn/SVM3.png)\n",
    "This trick is very praised because it saves computational complexity and burden. It has to do with calculating the scalar product of the transformed factors without having to deal with the transformation itself."
   ]
  },
  {
   "cell_type": "markdown",
   "metadata": {},
   "source": [
    "### Commonly used kernels:\n",
    "\n",
    "- Linear.\n",
    "- Polynomial.\n",
    "- Radial basis function (RBF) - Gaussian RBF.\n",
    "- Sigmoid.\n",
    "- etc..."
   ]
  },
  {
   "cell_type": "code",
   "execution_count": 8,
   "metadata": {
    "scrolled": true
   },
   "outputs": [
    {
     "name": "stdout",
     "output_type": "stream",
     "text": [
      "The accuracy on the training subset: 0.904\n",
      "The accuracy on the test subset: 0.937\n"
     ]
    }
   ],
   "source": [
    "# SVM classifier with an Radial basis function kernel\n",
    "from sklearn.svm import SVC\n",
    "from sklearn.model_selection import train_test_split\n",
    "from sklearn.datasets import load_breast_cancer\n",
    "\n",
    "cancer = load_breast_cancer()\n",
    "X_train, X_test, y_train, y_test = train_test_split(cancer.data, cancer.target, random_state=0)\n",
    "\n",
    "svm = SVC()\n",
    "svm.fit(X_train, y_train)\n",
    "\n",
    "print('The accuracy on the training subset: {:.3f}'.format(svm.score(X_train, y_train)))\n",
    "print('The accuracy on the test subset: {:.3f}'.format(svm.score(X_test, y_test)))"
   ]
  },
  {
   "cell_type": "markdown",
   "metadata": {},
   "source": [
    "One of the reasons to this poor performance could be because of the scaling of the data. SVMs are very sensitive to the scale and data in our case is not scaled.<br/>\n",
    "So let's try to see how each feature currently looks like or where exactly the minimum or the maximum of each feature is."
   ]
  },
  {
   "cell_type": "code",
   "execution_count": 9,
   "metadata": {},
   "outputs": [
    {
     "data": {
      "text/plain": [
       "<matplotlib.legend.Legend at 0x7f2a11e52f28>"
      ]
     },
     "execution_count": 9,
     "metadata": {},
     "output_type": "execute_result"
    },
    {
     "data": {
      "image/png": "[encoded data removed]",
      "text/plain": [
       "<Figure size 432x288 with 1 Axes>"
      ]
     },
     "metadata": {
      "needs_background": "light"
     },
     "output_type": "display_data"
    }
   ],
   "source": [
    "import matplotlib.pyplot as plt\n",
    "%matplotlib inline \n",
    "\n",
    "plt.plot(X_train.min(axis=0), 'o', label='Min')\n",
    "plt.plot(X_train.max(axis=0), 'v', label='Max')\n",
    "plt.xlabel('Feature Index')\n",
    "plt.ylabel('Feature Magnitude in Log Scale')\n",
    "plt.yscale('log')\n",
    "plt.legend(loc='upper right')"
   ]
  },
  {
   "cell_type": "markdown",
   "metadata": {},
   "source": [
    "We have kind of big difference between the minimum and maximum of each value and also a difference in orders of magnitude in between features. This is a factor that leads to the low performance of our SVM.<br><br>\n",
    "**So let's scale data !**<br>\n",
    "We could simply use scalers that are built-in scikit-learn like the standard scalar or the min/max scalar and so on that are available in the pre-processing module.\n",
    "We are going to do it by hand to kind of better understand what data scaling means.<br>\n",
    "Try to bring the values of each feature of each sample whitin a certain range like 0 to 1."
   ]
  },
  {
   "cell_type": "code",
   "execution_count": 35,
   "metadata": {
    "scrolled": true
   },
   "outputs": [
    {
     "name": "stdout",
     "output_type": "stream",
     "text": [
      "Minimum per feature\n",
      "[0. 0. 0. 0. 0. 0. 0. 0. 0. 0. 0. 0. 0. 0. 0. 0. 0. 0. 0. 0. 0. 0. 0. 0.\n",
      " 0. 0. 0. 0. 0. 0.]\n",
      "Maximum per feature\n",
      "[1. 1. 1. 1. 1. 1. 1. 1. 1. 1. 1. 1. 1. 1. 1. 1. 1. 1. 1. 1. 1. 1. 1. 1.\n",
      " 1. 1. 1. 1. 1. 1.]\n"
     ]
    }
   ],
   "source": [
    "# The minimum value of each feature\n",
    "min_train = X_train.min(axis=0)\n",
    "\n",
    "# The range of each feature by substracting the minimum from the maximum.\n",
    "range_train = X_train.max(axis=0) - min_train\n",
    "\n",
    "# Substract the minimum for each feature and divide by the range to bring data between 0 & 1\n",
    "X_train_scaled = (X_train - min_train) / range_train\n",
    "\n",
    "print('Minimum per feature\\n{}'.format(X_train_scaled.min(axis=0)))\n",
    "print('Maximum per feature\\n{}'.format(X_train_scaled.max(axis=0)))"
   ]
  },
  {
   "cell_type": "code",
   "execution_count": 36,
   "metadata": {},
   "outputs": [
    {
     "data": {
      "text/plain": [
       "SVC()"
      ]
     },
     "execution_count": 36,
     "metadata": {},
     "output_type": "execute_result"
    }
   ],
   "source": [
    "# Scale test set\n",
    "X_test_scaled = (X_test - min_train)/range_train\n",
    "\n",
    "svm = SVC()\n",
    "svm.fit(X_train_scaled, y_train)"
   ]
  },
  {
   "cell_type": "code",
   "execution_count": 13,
   "metadata": {
    "scrolled": false
   },
   "outputs": [
    {
     "name": "stdout",
     "output_type": "stream",
     "text": [
      "The accuracy on the training subset: 0.984\n",
      "The accuracy on the test subset: 0.972\n"
     ]
    }
   ],
   "source": [
    "print('The accuracy on the training subset: {:.3f}'.format(svm.score(X_train_scaled, y_train)))\n",
    "print('The accuracy on the test subset: {:.3f}'.format(svm.score(X_test_scaled, y_test)))"
   ]
  },
  {
   "cell_type": "markdown",
   "metadata": {},
   "source": [
    "It is much better but we are in a situation of under-fitting.\n",
    "\n",
    "What hyper parameter should we try adjustong first to improve the performance of the algorithm ?<br>\n",
    "Let's try with C ang Gamma which control the complexity of the model.<br>\n",
    "C default value is 1 and for Gamma it is 'auto'."
   ]
  },
  {
   "cell_type": "code",
   "execution_count": 43,
   "metadata": {
    "scrolled": true
   },
   "outputs": [
    {
     "name": "stdout",
     "output_type": "stream",
     "text": [
      "The accuracy on the training subset: 0.995\n",
      "The accuracy on the test subset: 0.979\n"
     ]
    }
   ],
   "source": [
    "svm = SVC(C=50)\n",
    "svm.fit(X_train_scaled, y_train)\n",
    "\n",
    "print('The accuracy on the training subset: {:.3f}'.format(svm.score(X_train_scaled, y_train)))\n",
    "print('The accuracy on the test subset: {:.3f}'.format(svm.score(X_test_scaled, y_test)))"
   ]
  },
  {
   "cell_type": "markdown",
   "metadata": {},
   "source": [
    "Performance is very good so no need to try with Gamma."
   ]
  },
  {
   "cell_type": "markdown",
   "metadata": {},
   "source": [
    "### <center> Advantages and Disadvantages of SVMs (scikit-learn) </center>\n",
    "\n",
    "#### Stronger points:\n",
    " - Versatility which means they can do well on a varied range of datasets.\n",
    " - Can build complex decision boundaries on low-dimensional data.\n",
    " - Can work well on high-dimensional data with relatively small sample size.\n",
    " - etc...\n",
    "\n",
    "#### Weaker points:\n",
    " - Don't perform well on high-dimensional data with many samples (i.e. > 100k).\n",
    " - Preprocessing may be required and this implies knowledge and understanding of hyper-parameters.\n",
    " - Harder to inspect and visualize.\n",
    " - etc.\n",
    " \n",
    "#### Alternatives: \n",
    " - Decision Trees and Random Forests (require less/no preprocessing of data, easier to understand, inspect, and visualize).\n",
    " \n",
    "#### Good practices: \n",
    "- Data scaling.\n",
    "- Other pre-processing.\n",
    "- Choosing an appropriate kernel.\n",
    "- Tuning hyper-parameters: C, gamma, etc. "
   ]
  }
 ],
 "metadata": {
  "kernelspec": {
   "display_name": "Python 3",
   "language": "python",
   "name": "python3"
  },
  "language_info": {
   "codemirror_mode": {
    "name": "ipython",
    "version": 3
   },
   "file_extension": ".py",
   "mimetype": "text/x-python",
   "name": "python",
   "nbconvert_exporter": "python",
   "pygments_lexer": "ipython3",
   "version": "3.6.8"
  }
 },
 "nbformat": 4,
 "nbformat_minor": 4
}
